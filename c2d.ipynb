{
  "nbformat": 4,
  "nbformat_minor": 0,
  "metadata": {
    "colab": {
      "provenance": []
    },
    "kernelspec": {
      "name": "python3",
      "display_name": "Python 3"
    },
    "language_info": {
      "name": "python"
    }
  },
  "cells": [
    {
      "cell_type": "markdown",
      "source": [
        "# Modélisation numérique"
      ],
      "metadata": {
        "id": "HaFceBBKR5Gf"
      }
    },
    {
      "cell_type": "markdown",
      "source": [
        "## Objectif"
      ],
      "metadata": {
        "id": "1h6oQ8toWTjK"
      }
    },
    {
      "cell_type": "markdown",
      "source": [
        "Interprétation de la formule\n",
        "\n",
        "$$H_N(z)=(1-z^{-1})Z\\left\\{\\dfrac{H(p)}{p}\\right\\}$$"
      ],
      "metadata": {
        "id": "BBlA78tuVE7B"
      }
    },
    {
      "cell_type": "markdown",
      "source": [
        "## Calcul de la réponse indicielle"
      ],
      "metadata": {
        "id": "hPlxa1TlWJa7"
      }
    },
    {
      "cell_type": "code",
      "execution_count": null,
      "metadata": {
        "colab": {
          "base_uri": "https://localhost:8080/",
          "height": 56
        },
        "id": "EPMYt-AbnWd8",
        "outputId": "62936a8d-061d-4b7e-b598-1ff4f393800b"
      },
      "outputs": [
        {
          "output_type": "execute_result",
          "data": {
            "text/plain": [
              "K/(p*(p*tau + 1))"
            ],
            "text/latex": "$\\displaystyle \\frac{K}{p \\left(p \\tau + 1\\right)}$"
          },
          "metadata": {},
          "execution_count": 1
        }
      ],
      "source": [
        "import sympy as sp\n",
        "\n",
        "p, zm1, K, tau, t, n, T_e=sp.symbols('p, z^{-1}, K, tau, t, n, T_e')\n",
        "\n",
        "H = K/(p*(1+tau*p))\n",
        "H"
      ]
    },
    {
      "cell_type": "code",
      "source": [
        "sp.latex(H)"
      ],
      "metadata": {
        "colab": {
          "base_uri": "https://localhost:8080/",
          "height": 36
        },
        "id": "HW7VT2vGRgyf",
        "outputId": "4ef931ad-0d52-426a-c126-8834972c32ba"
      },
      "execution_count": null,
      "outputs": [
        {
          "output_type": "execute_result",
          "data": {
            "text/plain": [
              "'\\\\frac{K}{p \\\\left(p \\\\tau + 1\\\\right)}'"
            ],
            "application/vnd.google.colaboratory.intrinsic+json": {
              "type": "string"
            }
          },
          "metadata": {},
          "execution_count": 2
        }
      ]
    },
    {
      "cell_type": "code",
      "source": [
        "r = sp.inverse_laplace_transform(H/p,p,t)\n",
        "r"
      ],
      "metadata": {
        "colab": {
          "base_uri": "https://localhost:8080/",
          "height": 47
        },
        "id": "o3S5BJfxoCaE",
        "outputId": "62635534-1bfa-4197-8e7e-76549fe0f0b4"
      },
      "execution_count": null,
      "outputs": [
        {
          "output_type": "execute_result",
          "data": {
            "text/plain": [
              "K*(t*Heaviside(t) - tau*Heaviside(t) + tau*exp(-t/tau)*Heaviside(t))"
            ],
            "text/latex": "$\\displaystyle K \\left(t \\theta\\left(t\\right) - \\tau \\theta\\left(t\\right) + \\tau e^{- \\frac{t}{\\tau}} \\theta\\left(t\\right)\\right)$"
          },
          "metadata": {},
          "execution_count": 3
        }
      ]
    },
    {
      "cell_type": "code",
      "source": [
        "sp.latex(r)"
      ],
      "metadata": {
        "colab": {
          "base_uri": "https://localhost:8080/",
          "height": 36
        },
        "id": "Ay0o_tPdSIei",
        "outputId": "7ac187bf-9a86-4cde-b557-6b0054da2a94"
      },
      "execution_count": null,
      "outputs": [
        {
          "output_type": "execute_result",
          "data": {
            "text/plain": [
              "'K \\\\left(t \\\\theta\\\\left(t\\\\right) - \\\\tau \\\\theta\\\\left(t\\\\right) + \\\\tau e^{- \\\\frac{t}{\\\\tau}} \\\\theta\\\\left(t\\\\right)\\\\right)'"
            ],
            "application/vnd.google.colaboratory.intrinsic+json": {
              "type": "string"
            }
          },
          "metadata": {},
          "execution_count": 4
        }
      ]
    },
    {
      "cell_type": "markdown",
      "source": [
        "## Echantillonnage de la réponse indicielle"
      ],
      "metadata": {
        "id": "TPvvu182WgVy"
      }
    },
    {
      "cell_type": "code",
      "source": [
        "r_N = r.subs(t,n*T_e)\n",
        "r_N"
      ],
      "metadata": {
        "colab": {
          "base_uri": "https://localhost:8080/",
          "height": 47
        },
        "id": "8444ETrjpKOV",
        "outputId": "58ad59a3-bfb1-42a8-e651-00b4fab6468e"
      },
      "execution_count": null,
      "outputs": [
        {
          "output_type": "execute_result",
          "data": {
            "text/plain": [
              "K*(T_e*n*Heaviside(T_e*n) - tau*Heaviside(T_e*n) + tau*exp(-T_e*n/tau)*Heaviside(T_e*n))"
            ],
            "text/latex": "$\\displaystyle K \\left(T_{e} n \\theta\\left(T_{e} n\\right) - \\tau \\theta\\left(T_{e} n\\right) + \\tau e^{- \\frac{T_{e} n}{\\tau}} \\theta\\left(T_{e} n\\right)\\right)$"
          },
          "metadata": {},
          "execution_count": 5
        }
      ]
    },
    {
      "cell_type": "code",
      "source": [
        "sp.latex(r_N)"
      ],
      "metadata": {
        "colab": {
          "base_uri": "https://localhost:8080/",
          "height": 36
        },
        "id": "r2v9mOSYSNjT",
        "outputId": "45e0f8bd-fe8b-4f3f-c999-1fd14a998e21"
      },
      "execution_count": null,
      "outputs": [
        {
          "output_type": "execute_result",
          "data": {
            "text/plain": [
              "'K \\\\left(T_{e} n \\\\theta\\\\left(T_{e} n\\\\right) - \\\\tau \\\\theta\\\\left(T_{e} n\\\\right) + \\\\tau e^{- \\\\frac{T_{e} n}{\\\\tau}} \\\\theta\\\\left(T_{e} n\\\\right)\\\\right)'"
            ],
            "application/vnd.google.colaboratory.intrinsic+json": {
              "type": "string"
            }
          },
          "metadata": {},
          "execution_count": 6
        }
      ]
    },
    {
      "cell_type": "markdown",
      "source": [
        "## Utilisation des tables de transformées en z usuelles"
      ],
      "metadata": {
        "id": "n6-mpKIiW54J"
      }
    },
    {
      "cell_type": "markdown",
      "source": [
        "On utilisera plutôt les expressions en $z^{-1}$."
      ],
      "metadata": {
        "id": "CVDG24E2pI8k"
      }
    },
    {
      "cell_type": "markdown",
      "source": [
        "$1$ --> $\\dfrac{z}{z-1}=\\dfrac{1}{1-z^{-1}}$\n",
        "\n",
        "$n$ --> $\\dfrac{z}{(z-1)^2}=\\dfrac{z^{-1}}{(1-z^{-1})^2}$\n",
        "\n",
        "$a^n$ --> $\\dfrac{z}{z-a}=\\dfrac{1}{1-az^{-1}}$\n",
        "\n",
        "$na^n$ --> $\\dfrac{az}{(z-a)^2}=\\dfrac{az^{-1}}{(1-az^{-1})^2}$"
      ],
      "metadata": {
        "id": "vW2fufVmGfEK"
      }
    },
    {
      "cell_type": "code",
      "source": [
        "R_N = K*T_e*zm1/(1-zm1)**2-K*tau/(1-zm1)+K*tau/(1-zm1*sp.exp(-T_e/tau))\n",
        "R_N"
      ],
      "metadata": {
        "colab": {
          "base_uri": "https://localhost:8080/",
          "height": 61
        },
        "id": "Qfwqn6k-Z3bM",
        "outputId": "b2083f5d-63e0-4727-e9a3-18564e22d165"
      },
      "execution_count": null,
      "outputs": [
        {
          "output_type": "execute_result",
          "data": {
            "text/plain": [
              "K*T_e*z^{-1}/(1 - z^{-1})**2 + K*tau/(-z^{-1}*exp(-T_e/tau) + 1) - K*tau/(1 - z^{-1})"
            ],
            "text/latex": "$\\displaystyle \\frac{K T_{e} z^{-1}}{\\left(1 - z^{-1}\\right)^{2}} + \\frac{K \\tau}{- z^{-1} e^{- \\frac{T_{e}}{\\tau}} + 1} - \\frac{K \\tau}{1 - z^{-1}}$"
          },
          "metadata": {},
          "execution_count": 7
        }
      ]
    },
    {
      "cell_type": "code",
      "source": [
        "sp.latex(R_N)"
      ],
      "metadata": {
        "colab": {
          "base_uri": "https://localhost:8080/",
          "height": 36
        },
        "id": "AFI4CaY1SUe9",
        "outputId": "a01d6622-a503-48fb-c69f-c253795bfe60"
      },
      "execution_count": null,
      "outputs": [
        {
          "output_type": "execute_result",
          "data": {
            "text/plain": [
              "'\\\\frac{K T_{e} z^{-1}}{\\\\left(1 - z^{-1}\\\\right)^{2}} + \\\\frac{K \\\\tau}{- z^{-1} e^{- \\\\frac{T_{e}}{\\\\tau}} + 1} - \\\\frac{K \\\\tau}{1 - z^{-1}}'"
            ],
            "application/vnd.google.colaboratory.intrinsic+json": {
              "type": "string"
            }
          },
          "metadata": {},
          "execution_count": 8
        }
      ]
    },
    {
      "cell_type": "markdown",
      "source": [
        "## Expression finale de $H_N(z)$"
      ],
      "metadata": {
        "id": "t8MRHgHeXG_j"
      }
    },
    {
      "cell_type": "code",
      "source": [
        "H_N = (1-zm1)*R_N\n",
        "H_N"
      ],
      "metadata": {
        "colab": {
          "base_uri": "https://localhost:8080/",
          "height": 68
        },
        "id": "KSjxafi2aNwc",
        "outputId": "d2902a27-62da-48c3-eee2-7d436b7058b8"
      },
      "execution_count": null,
      "outputs": [
        {
          "output_type": "execute_result",
          "data": {
            "text/plain": [
              "(1 - z^{-1})*(K*T_e*z^{-1}/(1 - z^{-1})**2 + K*tau/(-z^{-1}*exp(-T_e/tau) + 1) - K*tau/(1 - z^{-1}))"
            ],
            "text/latex": "$\\displaystyle \\left(1 - z^{-1}\\right) \\left(\\frac{K T_{e} z^{-1}}{\\left(1 - z^{-1}\\right)^{2}} + \\frac{K \\tau}{- z^{-1} e^{- \\frac{T_{e}}{\\tau}} + 1} - \\frac{K \\tau}{1 - z^{-1}}\\right)$"
          },
          "metadata": {},
          "execution_count": 9
        }
      ]
    },
    {
      "cell_type": "code",
      "source": [
        "sp.latex(H_N)"
      ],
      "metadata": {
        "colab": {
          "base_uri": "https://localhost:8080/",
          "height": 53
        },
        "id": "0PRRuhIkRxyK",
        "outputId": "61aff198-a1a6-4bd4-8291-cd6521d622d2"
      },
      "execution_count": null,
      "outputs": [
        {
          "output_type": "execute_result",
          "data": {
            "text/plain": [
              "'\\\\left(1 - z^{-1}\\\\right) \\\\left(\\\\frac{K T_{e} z^{-1}}{\\\\left(1 - z^{-1}\\\\right)^{2}} + \\\\frac{K \\\\tau}{- z^{-1} e^{- \\\\frac{T_{e}}{\\\\tau}} + 1} - \\\\frac{K \\\\tau}{1 - z^{-1}}\\\\right)'"
            ],
            "application/vnd.google.colaboratory.intrinsic+json": {
              "type": "string"
            }
          },
          "metadata": {},
          "execution_count": 10
        }
      ]
    },
    {
      "cell_type": "code",
      "source": [
        "H_N.factor()"
      ],
      "metadata": {
        "colab": {
          "base_uri": "https://localhost:8080/",
          "height": 83
        },
        "id": "5UPr2mvEfShK",
        "outputId": "ecf07b57-c0b0-47fd-8d8b-585cc83e9d2b"
      },
      "execution_count": null,
      "outputs": [
        {
          "output_type": "execute_result",
          "data": {
            "text/plain": [
              "-K*z^{-1}*(-T_e*z^{-1} + T_e*exp(T_e/tau) + tau*z^{-1}*exp(T_e/tau) - tau*z^{-1} - tau*exp(T_e/tau) + tau)/((-z^{-1} + exp(T_e/tau))*(z^{-1} - 1))"
            ],
            "text/latex": "$\\displaystyle - \\frac{K z^{-1} \\left(- T_{e} z^{-1} + T_{e} e^{\\frac{T_{e}}{\\tau}} + \\tau z^{-1} e^{\\frac{T_{e}}{\\tau}} - \\tau z^{-1} - \\tau e^{\\frac{T_{e}}{\\tau}} + \\tau\\right)}{\\left(- z^{-1} + e^{\\frac{T_{e}}{\\tau}}\\right) \\left(z^{-1} - 1\\right)}$"
          },
          "metadata": {},
          "execution_count": 11
        }
      ]
    },
    {
      "cell_type": "code",
      "source": [
        "sp.latex(H_N.factor())"
      ],
      "metadata": {
        "colab": {
          "base_uri": "https://localhost:8080/",
          "height": 53
        },
        "id": "kLo2TxeAR-dJ",
        "outputId": "bb314ed7-fc1d-4978-f927-e0821581eff5"
      },
      "execution_count": null,
      "outputs": [
        {
          "output_type": "execute_result",
          "data": {
            "text/plain": [
              "'- \\\\frac{K z^{-1} \\\\left(- T_{e} z^{-1} + T_{e} e^{\\\\frac{T_{e}}{\\\\tau}} + \\\\tau z^{-1} e^{\\\\frac{T_{e}}{\\\\tau}} - \\\\tau z^{-1} - \\\\tau e^{\\\\frac{T_{e}}{\\\\tau}} + \\\\tau\\\\right)}{\\\\left(- z^{-1} + e^{\\\\frac{T_{e}}{\\\\tau}}\\\\right) \\\\left(z^{-1} - 1\\\\right)}'"
            ],
            "application/vnd.google.colaboratory.intrinsic+json": {
              "type": "string"
            }
          },
          "metadata": {},
          "execution_count": 12
        }
      ]
    },
    {
      "cell_type": "markdown",
      "source": [
        "## Expression de $H_N(z)$ sous forme normalisée"
      ],
      "metadata": {
        "id": "0OsKXFolfRxD"
      }
    },
    {
      "cell_type": "markdown",
      "source": [
        "Le terme constant vaut 1 au dénominateur."
      ],
      "metadata": {
        "id": "eIyvn5yJpZnb"
      }
    },
    {
      "cell_type": "code",
      "source": [
        "sp.poly(-sp.exp(-T_e/tau)*H_N.factor().as_numer_denom()[0],zm1)"
      ],
      "metadata": {
        "colab": {
          "base_uri": "https://localhost:8080/",
          "height": 47
        },
        "id": "yO2beHP3coMi",
        "outputId": "2878d7bc-7178-4381-b69e-2dfc4f9d5382"
      },
      "execution_count": null,
      "outputs": [
        {
          "output_type": "execute_result",
          "data": {
            "text/plain": [
              "Poly((-K*T_e*exp(-T_e/tau) + K*tau - K*tau*exp(-T_e/tau))*z^{-1}**2 + (K*T_e - K*tau + K*tau*exp(-T_e/tau))*z^{-1}, z^{-1}, domain='EX')"
            ],
            "text/latex": "$\\displaystyle \\operatorname{Poly}{\\left( \\left(- K T_{e} e^{- \\frac{T_{e}}{\\tau}} + K \\tau - K \\tau e^{- \\frac{T_{e}}{\\tau}}\\right) \\left(z^{-1}\\right)^{2} + \\left(K T_{e} - K \\tau + K \\tau e^{- \\frac{T_{e}}{\\tau}}\\right) z^{-1}, z^{-1}, domain=\\mathtt{\\text{EX}} \\right)}$"
          },
          "metadata": {},
          "execution_count": 13
        }
      ]
    },
    {
      "cell_type": "code",
      "source": [
        "sp.poly(-sp.exp(-T_e/tau)*H_N.factor().as_numer_denom()[1],zm1)"
      ],
      "metadata": {
        "colab": {
          "base_uri": "https://localhost:8080/",
          "height": 47
        },
        "id": "PqNscEpIc0lz",
        "outputId": "4fcdcb95-2060-4cad-e8a3-bbdf85107ed8"
      },
      "execution_count": null,
      "outputs": [
        {
          "output_type": "execute_result",
          "data": {
            "text/plain": [
              "Poly(exp(-T_e/tau)*z^{-1}**2 + (-exp(T_e/tau) - 1)*exp(-T_e/tau)*z^{-1} + 1, z^{-1}, domain='ZZ(exp(T_e/tau))')"
            ],
            "text/latex": "$\\displaystyle \\operatorname{Poly}{\\left( e^{- \\frac{T_{e}}{\\tau}} \\left(z^{-1}\\right)^{2} + \\left(- e^{\\frac{T_{e}}{\\tau}} - 1\\right) e^{- \\frac{T_{e}}{\\tau}} z^{-1} + 1, z^{-1}, domain=\\mathbb{Z}\\left(e^{\\frac{T_{e}}{\\tau}}\\right) \\right)}$"
          },
          "metadata": {},
          "execution_count": 14
        }
      ]
    }
  ]
}