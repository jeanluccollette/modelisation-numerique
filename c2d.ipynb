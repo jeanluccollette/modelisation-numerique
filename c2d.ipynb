{
  "nbformat": 4,
  "nbformat_minor": 0,
  "metadata": {
    "colab": {
      "provenance": []
    },
    "kernelspec": {
      "name": "python3",
      "display_name": "Python 3"
    },
    "language_info": {
      "name": "python"
    }
  },
  "cells": [
    {
      "cell_type": "markdown",
      "source": [
        "# Modélisation numérique"
      ],
      "metadata": {
        "id": "HaFceBBKR5Gf"
      }
    },
    {
      "cell_type": "markdown",
      "source": [
        "## Objectif"
      ],
      "metadata": {
        "id": "1h6oQ8toWTjK"
      }
    },
    {
      "cell_type": "markdown",
      "source": [
        "Interprétation de la formule\n",
        "\n",
        "$$H_N(z)=(1-z^{-1})Z\\left\\{\\dfrac{H(p)}{p}\\right\\}$$"
      ],
      "metadata": {
        "id": "BBlA78tuVE7B"
      }
    },
    {
      "cell_type": "markdown",
      "source": [
        "## Calcul de la réponse indicielle"
      ],
      "metadata": {
        "id": "hPlxa1TlWJa7"
      }
    },
    {
      "cell_type": "code",
      "execution_count": null,
      "metadata": {
        "colab": {
          "base_uri": "https://localhost:8080/",
          "height": 56
        },
        "id": "EPMYt-AbnWd8",
        "outputId": "c87f7891-b942-4b41-e726-e03c14a5bf67"
      },
      "outputs": [
        {
          "output_type": "execute_result",
          "data": {
            "text/plain": [
              "K/(p*(p*tau + 1))"
            ],
            "text/latex": "$\\displaystyle \\frac{K}{p \\left(p \\tau + 1\\right)}$"
          },
          "metadata": {},
          "execution_count": 9
        }
      ],
      "source": [
        "import sympy as sp\n",
        "from sympy import oo\n",
        "\n",
        "p, zm1, K, tau, t, n, k, T_e=sp.symbols('p, z^{-1}, K, tau, t, n, k, T_e')\n",
        "\n",
        "H = K/(p*(1+tau*p))\n",
        "H"
      ]
    },
    {
      "cell_type": "code",
      "source": [
        "r = sp.inverse_laplace_transform(H/p,p,t)\n",
        "r"
      ],
      "metadata": {
        "colab": {
          "base_uri": "https://localhost:8080/",
          "height": 47
        },
        "id": "o3S5BJfxoCaE",
        "outputId": "035b2c6e-7467-47a9-d38b-59c3dae64b0a"
      },
      "execution_count": null,
      "outputs": [
        {
          "output_type": "execute_result",
          "data": {
            "text/plain": [
              "K*(t*Heaviside(t) - tau*Heaviside(t) + tau*exp(-t/tau)*Heaviside(t))"
            ],
            "text/latex": "$\\displaystyle K \\left(t \\theta\\left(t\\right) - \\tau \\theta\\left(t\\right) + \\tau e^{- \\frac{t}{\\tau}} \\theta\\left(t\\right)\\right)$"
          },
          "metadata": {},
          "execution_count": 10
        }
      ]
    },
    {
      "cell_type": "markdown",
      "source": [
        "## Echantillonnage de la réponse indicielle"
      ],
      "metadata": {
        "id": "TPvvu182WgVy"
      }
    },
    {
      "cell_type": "code",
      "source": [
        "r_n = r.subs(t,n*T_e)\n",
        "r_n"
      ],
      "metadata": {
        "colab": {
          "base_uri": "https://localhost:8080/",
          "height": 47
        },
        "id": "8444ETrjpKOV",
        "outputId": "c2f4241a-c175-4c45-c3d1-00a470d029ac"
      },
      "execution_count": null,
      "outputs": [
        {
          "output_type": "execute_result",
          "data": {
            "text/plain": [
              "K*(T_e*n*Heaviside(T_e*n) - tau*Heaviside(T_e*n) + tau*exp(-T_e*n/tau)*Heaviside(T_e*n))"
            ],
            "text/latex": "$\\displaystyle K \\left(T_{e} n \\theta\\left(T_{e} n\\right) - \\tau \\theta\\left(T_{e} n\\right) + \\tau e^{- \\frac{T_{e} n}{\\tau}} \\theta\\left(T_{e} n\\right)\\right)$"
          },
          "metadata": {},
          "execution_count": 11
        }
      ]
    },
    {
      "cell_type": "markdown",
      "source": [
        "## Utilisation des tables de transformées en z usuelles"
      ],
      "metadata": {
        "id": "n6-mpKIiW54J"
      }
    },
    {
      "cell_type": "markdown",
      "source": [
        "On utilisera plutôt les expressions en $z^{-1}$."
      ],
      "metadata": {
        "id": "CVDG24E2pI8k"
      }
    },
    {
      "cell_type": "markdown",
      "source": [
        "$1$ --> $\\dfrac{z}{z-1}=\\dfrac{1}{1-z^{-1}}$\n",
        "\n",
        "$n$ --> $\\dfrac{z}{(z-1)^2}=\\dfrac{z^{-1}}{(1-z^{-1})^2}$\n",
        "\n",
        "$a^n$ --> $\\dfrac{z}{z-a}=\\dfrac{1}{1-az^{-1}}$\n",
        "\n",
        "$na^n$ --> $\\dfrac{az}{(z-a)^2}=\\dfrac{az^{-1}}{(1-az^{-1})^2}$"
      ],
      "metadata": {
        "id": "vW2fufVmGfEK"
      }
    },
    {
      "cell_type": "code",
      "source": [
        "R = K*T_e*zm1/(1-zm1)**2-K*tau/(1-zm1)+K*tau/(1-zm1*sp.exp(-T_e/tau))\n",
        "R"
      ],
      "metadata": {
        "colab": {
          "base_uri": "https://localhost:8080/",
          "height": 61
        },
        "id": "Qfwqn6k-Z3bM",
        "outputId": "a310bc68-ec0a-40fd-9c19-8c3fff462590"
      },
      "execution_count": null,
      "outputs": [
        {
          "output_type": "execute_result",
          "data": {
            "text/plain": [
              "K*T_e*z^{-1}/(1 - z^{-1})**2 + K*tau/(-z^{-1}*exp(-T_e/tau) + 1) - K*tau/(1 - z^{-1})"
            ],
            "text/latex": "$\\displaystyle \\frac{K T_{e} z^{-1}}{\\left(1 - z^{-1}\\right)^{2}} + \\frac{K \\tau}{- z^{-1} e^{- \\frac{T_{e}}{\\tau}} + 1} - \\frac{K \\tau}{1 - z^{-1}}$"
          },
          "metadata": {},
          "execution_count": 12
        }
      ]
    },
    {
      "cell_type": "markdown",
      "source": [
        "## Expression finale de $H_N(z)$"
      ],
      "metadata": {
        "id": "t8MRHgHeXG_j"
      }
    },
    {
      "cell_type": "code",
      "source": [
        "H_N = (1-zm1)*R\n",
        "H_N"
      ],
      "metadata": {
        "colab": {
          "base_uri": "https://localhost:8080/",
          "height": 68
        },
        "id": "KSjxafi2aNwc",
        "outputId": "7df96000-47f3-4bbe-a344-9998efcdc376"
      },
      "execution_count": null,
      "outputs": [
        {
          "output_type": "execute_result",
          "data": {
            "text/plain": [
              "(1 - z^{-1})*(K*T_e*z^{-1}/(1 - z^{-1})**2 + K*tau/(-z^{-1}*exp(-T_e/tau) + 1) - K*tau/(1 - z^{-1}))"
            ],
            "text/latex": "$\\displaystyle \\left(1 - z^{-1}\\right) \\left(\\frac{K T_{e} z^{-1}}{\\left(1 - z^{-1}\\right)^{2}} + \\frac{K \\tau}{- z^{-1} e^{- \\frac{T_{e}}{\\tau}} + 1} - \\frac{K \\tau}{1 - z^{-1}}\\right)$"
          },
          "metadata": {},
          "execution_count": 13
        }
      ]
    },
    {
      "cell_type": "code",
      "source": [
        "H_N.factor()"
      ],
      "metadata": {
        "colab": {
          "base_uri": "https://localhost:8080/",
          "height": 83
        },
        "id": "5UPr2mvEfShK",
        "outputId": "233201b8-5d77-449e-a5fe-96eb5d6dec2d"
      },
      "execution_count": null,
      "outputs": [
        {
          "output_type": "execute_result",
          "data": {
            "text/plain": [
              "-K*z^{-1}*(-T_e*z^{-1} + T_e*exp(T_e/tau) + tau*z^{-1}*exp(T_e/tau) - tau*z^{-1} - tau*exp(T_e/tau) + tau)/((-z^{-1} + exp(T_e/tau))*(z^{-1} - 1))"
            ],
            "text/latex": "$\\displaystyle - \\frac{K z^{-1} \\left(- T_{e} z^{-1} + T_{e} e^{\\frac{T_{e}}{\\tau}} + \\tau z^{-1} e^{\\frac{T_{e}}{\\tau}} - \\tau z^{-1} - \\tau e^{\\frac{T_{e}}{\\tau}} + \\tau\\right)}{\\left(- z^{-1} + e^{\\frac{T_{e}}{\\tau}}\\right) \\left(z^{-1} - 1\\right)}$"
          },
          "metadata": {},
          "execution_count": 14
        }
      ]
    },
    {
      "cell_type": "markdown",
      "source": [
        "## Expression de $H_N(z)$ sous forme normalisée"
      ],
      "metadata": {
        "id": "0OsKXFolfRxD"
      }
    },
    {
      "cell_type": "markdown",
      "source": [
        "Le terme constant vaut 1 au dénominateur."
      ],
      "metadata": {
        "id": "eIyvn5yJpZnb"
      }
    },
    {
      "cell_type": "code",
      "source": [
        "sp.poly(-sp.exp(-T_e/tau)*H_N.factor().as_numer_denom()[0],zm1)"
      ],
      "metadata": {
        "colab": {
          "base_uri": "https://localhost:8080/",
          "height": 47
        },
        "id": "yO2beHP3coMi",
        "outputId": "d8a4b8d1-e6e8-4931-cf0a-8a15f121feac"
      },
      "execution_count": null,
      "outputs": [
        {
          "output_type": "execute_result",
          "data": {
            "text/plain": [
              "Poly((-K*T_e*exp(-T_e/tau) + K*tau - K*tau*exp(-T_e/tau))*z^{-1}**2 + (K*T_e - K*tau + K*tau*exp(-T_e/tau))*z^{-1}, z^{-1}, domain='EX')"
            ],
            "text/latex": "$\\displaystyle \\operatorname{Poly}{\\left( \\left(- K T_{e} e^{- \\frac{T_{e}}{\\tau}} + K \\tau - K \\tau e^{- \\frac{T_{e}}{\\tau}}\\right) \\left(z^{-1}\\right)^{2} + \\left(K T_{e} - K \\tau + K \\tau e^{- \\frac{T_{e}}{\\tau}}\\right) z^{-1}, z^{-1}, domain=\\mathtt{\\text{EX}} \\right)}$"
          },
          "metadata": {},
          "execution_count": 15
        }
      ]
    },
    {
      "cell_type": "code",
      "source": [
        "sp.poly(-sp.exp(-T_e/tau)*H_N.factor().as_numer_denom()[1],zm1)"
      ],
      "metadata": {
        "colab": {
          "base_uri": "https://localhost:8080/",
          "height": 47
        },
        "id": "PqNscEpIc0lz",
        "outputId": "d0a377e0-87a2-4be7-a836-2d2ab38f4754"
      },
      "execution_count": null,
      "outputs": [
        {
          "output_type": "execute_result",
          "data": {
            "text/plain": [
              "Poly(exp(-T_e/tau)*z^{-1}**2 + (-exp(T_e/tau) - 1)*exp(-T_e/tau)*z^{-1} + 1, z^{-1}, domain='ZZ(exp(T_e/tau))')"
            ],
            "text/latex": "$\\displaystyle \\operatorname{Poly}{\\left( e^{- \\frac{T_{e}}{\\tau}} \\left(z^{-1}\\right)^{2} + \\left(- e^{\\frac{T_{e}}{\\tau}} - 1\\right) e^{- \\frac{T_{e}}{\\tau}} z^{-1} + 1, z^{-1}, domain=\\mathbb{Z}\\left(e^{\\frac{T_{e}}{\\tau}}\\right) \\right)}$"
          },
          "metadata": {},
          "execution_count": 16
        }
      ]
    }
  ]
}